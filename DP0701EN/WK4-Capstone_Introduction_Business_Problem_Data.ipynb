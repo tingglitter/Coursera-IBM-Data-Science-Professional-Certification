{
 "cells": [
  {
   "cell_type": "markdown",
   "metadata": {},
   "source": [
    "# Capstone Project - Locations for Chinese Restaurant Startup in London (Week 4)\n",
    "### Applied Data Science Capstone by IBM/Coursera"
   ]
  },
  {
   "cell_type": "markdown",
   "metadata": {},
   "source": [
    "## Introduction: Business Problem"
   ]
  },
  {
   "cell_type": "markdown",
   "metadata": {
    "colab_type": "text",
    "id": "CS8mSQAxNtJH"
   },
   "source": [
    "The purpose of this project is to find optimal locations for a Chinese restaurant in London. This report is targeted at stakeholders, primarily but not limited to Chinese residing in London, British Chinese as well as new Chinese migrants who are **interest in starting and operating a Chinese restaurant business in London**.\n",
    "\n",
    "According to Wikipedia, https://en.wikipedia.org/wiki/British_Chinese, Chinese form 1.4% of the population of London (107,100 / 7,456,000). The Chinese population is extremely dispersed, according to Rob Lewis, a senior demographer at the Greater London Authority: **\"The reason for their thin spread all over London, is because of the idea that you want to set up a Chinese restaurant that's a little way away from the next one.\"** The statement made by Rob Lewis reinforces the applicability of the analysis discussed in this paper. We will be **using geolocation data to identify low density Chinese restaurant areas in London suitable for startup** which is a prime consideration for our stakeholders.\n",
    "\n",
    "Since there are lots of restaurants in London, the following will outline the selection criteria:  \n",
    "\n",
    "**1. Locations that are not already crowded with restaurants**  \n",
    "**2. Areas with no Chinese restaurant in the vincinity**  \n",
    "**3. Near to city center of London** (assuming the first two conditions are met)\n",
    "\n",
    "This paper will use data science approach with geolocation data to identify low density Chinese restaurant areas within the boroughs of London and generate a list of suitable locations based on the criteria above. The advantages of each area will then be clearly expressed so that the best possible final location can be considered and chosen by stakeholders."
   ]
  },
  {
   "cell_type": "markdown",
   "metadata": {},
   "source": [
    "## Data"
   ]
  },
  {
   "cell_type": "markdown",
   "metadata": {
    "colab_type": "text",
    "id": "rIwKRVRsNtJJ"
   },
   "source": [
    "Based on definition of the problem, factors that will influence the stakeholders' decision are:\n",
    "* number of existing restaurants in the neighborhood (any type of restaurant)\n",
    "* number of and distance to Chinese restaurants in the neighborhood, if any\n",
    "* distance of neighborhood from city center of London\n",
    "\n",
    "We decided to use regularly spaced grid of locations, centered around city center of London, to define our neighborhoods.\n",
    "\n",
    "Following data/API sources will be needed to extract/generate the required information:\n",
    "* centers of candidate areas will be generated algorithmically and approximate addresses of centers of those areas will be obtained through reverse geocoding using **Google Maps Geocoding API**\n",
    "* number of restaurants and their type and location in every neighborhood will be obtained using **Foursquare API**\n",
    "* coordinate of city center of London will be obtained using **Google Maps Geocoding API**\n",
    "* London Bouroughs Boundaries available at https://skgrange.github.io/www/data/london_boroughs.jsonhttps://skgrange.github.io/www/data/london_boroughs.json\n",
    "\n",
    "Since we will be dealing with addresses and geographic coordinates in this project, Google Maps Geocoding API is an effective tool to convert between the two. "
   ]
  }
 ],
 "metadata": {
  "kernelspec": {
   "display_name": "Python 3",
   "language": "python",
   "name": "python3"
  },
  "language_info": {
   "codemirror_mode": {
    "name": "ipython",
    "version": 3
   },
   "file_extension": ".py",
   "mimetype": "text/x-python",
   "name": "python",
   "nbconvert_exporter": "python",
   "pygments_lexer": "ipython3",
   "version": "3.8.3"
  }
 },
 "nbformat": 4,
 "nbformat_minor": 4
}
